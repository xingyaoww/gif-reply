{
 "cells": [
  {
   "cell_type": "code",
   "execution_count": 1,
   "metadata": {
    "ExecuteTime": {
     "end_time": "2021-09-27T19:15:20.253611Z",
     "start_time": "2021-09-27T19:15:17.647084Z"
    }
   },
   "outputs": [],
   "source": [
    "import torch\n",
    "import numpy as np\n",
    "import pandas as pd\n",
    "import os\n",
    "import ast\n",
    "\n",
    "from IPython.display import HTML\n",
    "from sklearn.metrics.pairwise import cosine_similarity\n",
    "from transformers import AutoTokenizer"
   ]
  },
  {
   "cell_type": "code",
   "execution_count": 2,
   "metadata": {
    "ExecuteTime": {
     "end_time": "2021-09-27T19:15:20.944991Z",
     "start_time": "2021-09-27T19:15:20.256119Z"
    }
   },
   "outputs": [],
   "source": [
    "from models import PEPEModel"
   ]
  },
  {
   "cell_type": "markdown",
   "metadata": {},
   "source": [
    "# Prepare Files\n",
    "\n",
    "Following instruction [here](https://github.com/xingyaoww/gif-reply/tree/main/data) and [here (only for oscar pretrained model dir)](https://github.com/xingyaoww/gif-reply/tree/main/src/pepe) to prepare the following data.\n"
   ]
  },
  {
   "cell_type": "code",
   "execution_count": 3,
   "metadata": {
    "ExecuteTime": {
     "end_time": "2021-09-27T19:15:20.950921Z",
     "start_time": "2021-09-27T19:15:20.947573Z"
    }
   },
   "outputs": [],
   "source": [
    "INFERRED_FEATURE_PATH = \"/path/to/your/gif-pepe-inferred-features-top1k.csv/or/gif-pepe-inferred-features.csv\"\n",
    "PEPE_MODEL_CKPT = \"/path/to/your/PEPE-model-checkpoint.pth\"\n",
    "GIF_ID_TO_GIPHY_INDEX_MAPPING_FILE = \"/path/to/your/gif-id-to-giphy-id-mapping.csv\"\n",
    "OSCAR_PRETRAINED_MODEL_DIR = \"/path/to/your/ep_67_588997/\""
   ]
  },
  {
   "cell_type": "markdown",
   "metadata": {},
   "source": [
    "# Load Inferred Features"
   ]
  },
  {
   "cell_type": "code",
   "execution_count": 5,
   "metadata": {
    "ExecuteTime": {
     "end_time": "2021-09-27T19:15:20.985810Z",
     "start_time": "2021-09-27T19:15:20.968799Z"
    }
   },
   "outputs": [],
   "source": [
    "def load_inferred_feature(feature_path: str, banning_gifs: set = set()):\n",
    "    # load precomputed gif features        \n",
    "    _gif_ds = pd.read_csv(feature_path)\n",
    "    _gif_ds[\"gif_feature\"] = _gif_ds[\"gif_feature\"].apply(ast.literal_eval).apply(np.array)\n",
    "    # filter banning gifs\n",
    "    _gif_ds = _gif_ds[_gif_ds[\"gif_id\"].apply(lambda x: x not in banning_gifs)]\n",
    "    \n",
    "    # load gif_features into a dict\n",
    "    gif_index_to_id = _gif_ds['gif_id'].to_list()\n",
    "    return {\n",
    "        \"gif_features\": np.stack(_gif_ds['gif_feature'].to_list()),\n",
    "        \"gif_index_to_id\": gif_index_to_id,\n",
    "        \"gif_id_to_index\": {gif_id: idx for idx, gif_id in enumerate(gif_index_to_id)}\n",
    "    }"
   ]
  },
  {
   "cell_type": "code",
   "execution_count": 6,
   "metadata": {
    "ExecuteTime": {
     "end_time": "2021-09-27T19:15:22.718949Z",
     "start_time": "2021-09-27T19:15:20.988283Z"
    }
   },
   "outputs": [],
   "source": [
    "inferred_feature = load_inferred_feature(INFERRED_FEATURE_PATH)"
   ]
  },
  {
   "cell_type": "markdown",
   "metadata": {},
   "source": [
    "# Load `PEPE`"
   ]
  },
  {
   "cell_type": "code",
   "execution_count": 7,
   "metadata": {
    "ExecuteTime": {
     "end_time": "2021-09-27T19:15:23.832845Z",
     "start_time": "2021-09-27T19:15:22.721974Z"
    }
   },
   "outputs": [
    {
     "name": "stderr",
     "output_type": "stream",
     "text": [
      "Special tokens have been added in the vocabulary, make sure the associated word embedding are fine-tuned or trained.\n"
     ]
    }
   ],
   "source": [
    "bertweet_tokenizer = AutoTokenizer.from_pretrained(\"vinai/bertweet-base\")\n",
    "\n",
    "def tokenizeTweet(tweet):\n",
    "    # max_length=128 default for bertweet\n",
    "    return bertweet_tokenizer.encode(tweet, max_length=128, truncation=True)\n",
    "\n",
    "class PEPERetrieval():\n",
    "    def __init__(self, checkpoint_path, pretrained_oscar_path, inferred_feature):\n",
    "        print(\"loading PEPE model.\")\n",
    "        self.model = PEPEModel(pretrained_oscar_path)\n",
    "        if os.environ.get(\"CUDA_VISIBLE_DEVICES\", None):\n",
    "            self.model = self.model.cuda()\n",
    "            map_location = None\n",
    "        else:\n",
    "            map_location = torch.device('cpu')\n",
    "        \n",
    "        print(self.model.load_state_dict(\n",
    "            torch.load(checkpoint_path, map_location=map_location)))\n",
    "        print(\"PEPE model loaded.\")\n",
    "        \n",
    "        self.gif_features = inferred_feature.get(\"gif_features\")\n",
    "        self.gif_index_to_id = inferred_feature.get(\"gif_index_to_id\")\n",
    "        self.gif_id_to_index = inferred_feature.get(\"gif_id_to_index\")\n",
    "\n",
    "    def _tweet_to_tweet_feature_PEPE(self, normalized_tweet: str):\n",
    "        tweet_ids = tokenizeTweet(normalized_tweet)\n",
    "        tweet_ids = torch.Tensor(tweet_ids).long().unsqueeze(0)\n",
    "        if os.environ.get(\"CUDA_VISIBLE_DEVICES\", None):\n",
    "            tweet_ids = tweet_ids.cuda()\n",
    "        return self.model.extract_tweet_feature(tweet_ids).detach().cpu().squeeze().numpy()\n",
    "\n",
    "    def retrieve(self, normalized_tweet: str, k=10):\n",
    "        tweet_feature = self._tweet_to_tweet_feature_PEPE(normalized_tweet)\n",
    "        _scores = tweet_feature @ self.gif_features.T\n",
    "        recommended_indices = list(reversed((_scores).argsort()[-k:].tolist()))\n",
    "        recommended_gifs = [self.gif_index_to_id[i] for i in recommended_indices]\n",
    "        return recommended_gifs\n",
    "\n",
    "    def get_similarity(self, normalized_tweet: str, gif_id: str):\n",
    "        tweet_feature = self._tweet_to_tweet_feature_PEPE(\n",
    "            normalized_tweet)\n",
    "        gif_idx = self.gif_id_to_index.get(gif_id)\n",
    "        return cosine_similarity(tweet_feature.reshape(1, -1),\n",
    "                                 self.PEPE_gif_features[gif_idx].reshape(1, -1)).tolist()[0][0]"
   ]
  },
  {
   "cell_type": "code",
   "execution_count": 8,
   "metadata": {
    "ExecuteTime": {
     "end_time": "2021-09-27T19:15:33.619380Z",
     "start_time": "2021-09-27T19:15:23.836173Z"
    }
   },
   "outputs": [
    {
     "name": "stdout",
     "output_type": "stream",
     "text": [
      "loading PEPE model.\n",
      "<All keys matched successfully>\n",
      "PEPE model loaded.\n"
     ]
    }
   ],
   "source": [
    "PEPE = PEPERetrieval(PEPE_MODEL_CKPT, OSCAR_PRETRAINED_MODEL_DIR, inferred_feature)"
   ]
  },
  {
   "cell_type": "markdown",
   "metadata": {},
   "source": [
    "# Have Fun!"
   ]
  },
  {
   "cell_type": "code",
   "execution_count": 9,
   "metadata": {
    "ExecuteTime": {
     "end_time": "2021-09-27T19:15:33.959221Z",
     "start_time": "2021-09-27T19:15:33.621510Z"
    }
   },
   "outputs": [],
   "source": [
    "def visualize_giphy_gif(giphy_id):    \n",
    "    giphy_link = f\"https://media.giphy.com/media/{giphy_id}/giphy.mp4\"\n",
    "    return HTML(f\"\"\"\n",
    "        <video autoplay loop muted>\n",
    "            <source src=\"{giphy_link}\" type=\"video/mp4\" />\n",
    "        </video>\n",
    "    \"\"\")\n",
    "\n",
    "gif_id_to_giphy_id = dict(pd.read_csv(GIF_ID_TO_GIPHY_INDEX_MAPPING_FILE)[[\"gif_id\", \"giphy_id\"]].to_numpy())"
   ]
  },
  {
   "cell_type": "code",
   "execution_count": 10,
   "metadata": {
    "ExecuteTime": {
     "end_time": "2021-09-27T19:15:34.933646Z",
     "start_time": "2021-09-27T19:15:33.961419Z"
    }
   },
   "outputs": [
    {
     "data": {
      "text/plain": [
       "['ffe7e6e2f0f0f0f0ffe7e6e0f0f0f0f8ffe7e7e0f0f0f0f0',\n",
       " 'ffe7e6e2f0f0f0f0ffe7e7e0f0f0f0f8ffe7e7e0f0f0f0f0',\n",
       " '0f1b090103c3c3c71b1b0d0147c7c7c71b1b090103c3c7c7',\n",
       " '00203c4f6ffffefc0000167b73fffefc0030144f6ffffefc',\n",
       " 'ff00086fefcfcf87ff00084fefefefc7ff00084fefefef87',\n",
       " '7e3e5c5c0c0c0c0e7e3e5c5c0c0c0c0e7e3e5c5c0c181c0e',\n",
       " 'ddd8f0f76061f98478fffed0c3f3c0c066802c0e83dfffef',\n",
       " '0400149c99833f3f0400541c9d033f3f0400149c1d033f3f',\n",
       " 'c6e6c0d6cfcbc0c3c6e6c0decfcbc0c3c6e6c0decfcbc0c3',\n",
       " '0400149c99833f3f0400549c9d033f3e0400149c1d033f3f']"
      ]
     },
     "execution_count": 10,
     "metadata": {},
     "output_type": "execute_result"
    }
   ],
   "source": [
    "recommended_gif_ids = PEPE.retrieve(\"Hello! Nice to meet you!\")\n",
    "recommended_gif_ids"
   ]
  },
  {
   "cell_type": "code",
   "execution_count": 11,
   "metadata": {
    "ExecuteTime": {
     "end_time": "2021-09-27T19:15:34.943226Z",
     "start_time": "2021-09-27T19:15:34.936474Z"
    }
   },
   "outputs": [
    {
     "data": {
      "text/plain": [
       "['UMOQRDqoPx8UE',\n",
       " 'GNvWLzRFMm3Be',\n",
       " '4iJlMbTNSaOgE',\n",
       " '3o7ZeObEUcfLbktUkg',\n",
       " 'cJSDRt8csBx0A7YFfh',\n",
       " 'jt2YKsUUtsKCA',\n",
       " 'Lkoj36QKG8KDS',\n",
       " 'Vccpm1O9gV1g4',\n",
       " '3oriO04qxVReM5rJEA',\n",
       " 'EtbzbLf34qgms']"
      ]
     },
     "execution_count": 11,
     "metadata": {},
     "output_type": "execute_result"
    }
   ],
   "source": [
    "recomended_giphy_ids = list(map(lambda x: gif_id_to_giphy_id.get(x), recommended_gif_ids))\n",
    "recomended_giphy_ids"
   ]
  },
  {
   "cell_type": "code",
   "execution_count": 12,
   "metadata": {
    "ExecuteTime": {
     "end_time": "2021-09-27T19:15:34.959956Z",
     "start_time": "2021-09-27T19:15:34.945672Z"
    }
   },
   "outputs": [
    {
     "data": {
      "text/html": [
       "\n",
       "        <video autoplay loop muted>\n",
       "            <source src=\"https://media.giphy.com/media/GNvWLzRFMm3Be/giphy.mp4\" type=\"video/mp4\" />\n",
       "        </video>\n",
       "    "
      ],
      "text/plain": [
       "<IPython.core.display.HTML object>"
      ]
     },
     "execution_count": 12,
     "metadata": {},
     "output_type": "execute_result"
    }
   ],
   "source": [
    "visualize_giphy_gif(recomended_giphy_ids[1])"
   ]
  },
  {
   "cell_type": "code",
   "execution_count": 13,
   "metadata": {
    "ExecuteTime": {
     "end_time": "2021-09-27T19:15:34.976394Z",
     "start_time": "2021-09-27T19:15:34.962423Z"
    }
   },
   "outputs": [
    {
     "data": {
      "text/html": [
       "\n",
       "        <video autoplay loop muted>\n",
       "            <source src=\"https://media.giphy.com/media/4iJlMbTNSaOgE/giphy.mp4\" type=\"video/mp4\" />\n",
       "        </video>\n",
       "    "
      ],
      "text/plain": [
       "<IPython.core.display.HTML object>"
      ]
     },
     "execution_count": 13,
     "metadata": {},
     "output_type": "execute_result"
    }
   ],
   "source": [
    "visualize_giphy_gif(recomended_giphy_ids[2])"
   ]
  }
 ],
 "metadata": {
  "kernelspec": {
   "display_name": "Python 3",
   "language": "python",
   "name": "python3"
  },
  "language_info": {
   "codemirror_mode": {
    "name": "ipython",
    "version": 3
   },
   "file_extension": ".py",
   "mimetype": "text/x-python",
   "name": "python",
   "nbconvert_exporter": "python",
   "pygments_lexer": "ipython3",
   "version": "3.8.5"
  },
  "toc": {
   "base_numbering": 1,
   "nav_menu": {},
   "number_sections": true,
   "sideBar": true,
   "skip_h1_title": false,
   "title_cell": "Table of Contents",
   "title_sidebar": "Contents",
   "toc_cell": false,
   "toc_position": {},
   "toc_section_display": true,
   "toc_window_display": false
  },
  "varInspector": {
   "cols": {
    "lenName": "50",
    "lenType": 16,
    "lenVar": 40
   },
   "kernels_config": {
    "python": {
     "delete_cmd_postfix": "",
     "delete_cmd_prefix": "del ",
     "library": "var_list.py",
     "varRefreshCmd": "print(var_dic_list())"
    },
    "r": {
     "delete_cmd_postfix": ") ",
     "delete_cmd_prefix": "rm(",
     "library": "var_list.r",
     "varRefreshCmd": "cat(var_dic_list()) "
    }
   },
   "types_to_exclude": [
    "module",
    "function",
    "builtin_function_or_method",
    "instance",
    "_Feature"
   ],
   "window_display": false
  }
 },
 "nbformat": 4,
 "nbformat_minor": 4
}
